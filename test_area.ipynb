{
 "cells": [
  {
   "cell_type": "code",
   "execution_count": null,
   "metadata": {},
   "outputs": [],
   "source": [
    "from random import uniform\n",
    "import time\n",
    "from IPython.display import display, clear_output\n",
    "\n",
    "def black_box():\n",
    "    i = 1\n",
    "    while True:\n",
    "        clear_output()\n",
    "        print('Iteration '+str(i)+' Score: '+str(uniform(0, 1)))\n",
    "        time.sleep(1)\n",
    "        i += 1\n",
    "\n",
    "black_box()\n"
   ]
  },
  {
   "cell_type": "code",
   "execution_count": null,
   "metadata": {},
   "outputs": [],
   "source": [
    "from IPython.display import display\n",
    "from time import sleep\n",
    "\n",
    "print('Test 1')\n",
    "dh = display('Test2',display_id=True)\n",
    "sleep(1)\n",
    "dh.update('Test3')"
   ]
  },
  {
   "cell_type": "code",
   "execution_count": null,
   "metadata": {},
   "outputs": [],
   "source": [
    "import csv\n",
    "class output_writer:\n",
    "    def __init__(self, file_name):\n",
    "        self.file_name = file_name\n",
    "        self.file = open(self.file_name, mode = \"a\", newline = \"\")\n",
    "        self.writer = csv.writer(self.file)\n",
    "        self.writer.writerow([\"T (C)\", \"v1f (V)\", \"v2f (V)\", \"R (nm)\", \"d_n\"])\n",
    "        self.file.flush()\n",
    "\n",
    "    def write_row_csv(self, row):\n",
    "        self.writer.writerow(row)\n",
    "        self.file.flush()\n",
    "\n",
    "    def close(self):\n",
    "        self.file.close()"
   ]
  },
  {
   "cell_type": "code",
   "execution_count": 6,
   "metadata": {},
   "outputs": [],
   "source": [
    "output = output_writer(\"test_output.csv\")"
   ]
  },
  {
   "cell_type": "code",
   "execution_count": 3,
   "metadata": {},
   "outputs": [],
   "source": [
    "row = [1, 2, 3, 4, 5]\n",
    "output.write_row_csv(row)"
   ]
  },
  {
   "cell_type": "code",
   "execution_count": 7,
   "metadata": {},
   "outputs": [],
   "source": [
    "output.close()"
   ]
  }
 ],
 "metadata": {
  "kernelspec": {
   "display_name": "biref",
   "language": "python",
   "name": "python3"
  },
  "language_info": {
   "codemirror_mode": {
    "name": "ipython",
    "version": 3
   },
   "file_extension": ".py",
   "mimetype": "text/x-python",
   "name": "python",
   "nbconvert_exporter": "python",
   "pygments_lexer": "ipython3",
   "version": "3.13.2"
  }
 },
 "nbformat": 4,
 "nbformat_minor": 2
}
