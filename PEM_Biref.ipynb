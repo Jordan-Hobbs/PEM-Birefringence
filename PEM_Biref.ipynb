{
 "cells": [
  {
   "cell_type": "code",
   "execution_count": 1,
   "metadata": {},
   "outputs": [],
   "source": [
    "# Import all needed functions and modules\n",
    "\n",
    "from instruments import SRLockinAmplifier, LinkamHotstage\n",
    "from utils import run_temperature_sweep"
   ]
  },
  {
   "cell_type": "code",
   "execution_count": 2,
   "metadata": {},
   "outputs": [
    {
     "name": "stdout",
     "output_type": "stream",
     "text": [
      "Lockin connected\n",
      "Linkam Connected\n",
      "27.1\n"
     ]
    }
   ],
   "source": [
    "# Initialise the lockin and hotstage.\n",
    "# Check the address for the lockin and hotstage. \n",
    "# If needed run the second code block to find out the ID's\n",
    "\n",
    "lockin = SRLockinAmplifier(\"GPIB0::1::INSTR\") # initialise the lockin\n",
    "lockin.initialise_dualharmonic() # initialise dual harmonic mode\n",
    "\n",
    "hotstage = LinkamHotstage(\"ASRL6::INSTR\") # inistialise hotstage\n",
    "print(hotstage.current_temperature()[0])"
   ]
  },
  {
   "cell_type": "code",
   "execution_count": null,
   "metadata": {},
   "outputs": [],
   "source": [
    "import pyvisa\n",
    "rm = pyvisa.ResourceManager()\n",
    "visa_resources = rm.list_resources(\"?*\")\n",
    "print(visa_resources)"
   ]
  },
  {
   "cell_type": "code",
   "execution_count": 3,
   "metadata": {},
   "outputs": [],
   "source": [
    "# Set run parameters in degrees C\n",
    "\n",
    "rate = 1\n",
    "start_temp = 30\n",
    "end_temp = 29\n",
    "step = 0.1"
   ]
  },
  {
   "cell_type": "code",
   "execution_count": 4,
   "metadata": {},
   "outputs": [
    {
     "name": "stdout",
     "output_type": "stream",
     "text": [
      "here\n",
      "not here\n",
      "there\n"
     ]
    }
   ],
   "source": [
    "v1f, v2f = run_temperature_sweep(start_temp, end_temp, step, rate, hotstage, lockin)"
   ]
  }
 ],
 "metadata": {
  "kernelspec": {
   "display_name": "biref",
   "language": "python",
   "name": "python3"
  },
  "language_info": {
   "codemirror_mode": {
    "name": "ipython",
    "version": 3
   },
   "file_extension": ".py",
   "mimetype": "text/x-python",
   "name": "python",
   "nbconvert_exporter": "python",
   "pygments_lexer": "ipython3",
   "version": "3.13.2"
  }
 },
 "nbformat": 4,
 "nbformat_minor": 2
}
