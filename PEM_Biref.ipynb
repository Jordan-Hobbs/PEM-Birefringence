{
 "cells": [
  {
   "cell_type": "code",
   "execution_count": null,
   "metadata": {},
   "outputs": [],
   "source": [
    "# Import all needed functions and modules\n",
    "\n",
    "from instruments import SRLockinAmplifier, LinkamHotstage\n",
    "from utils import run_temperature_sweep, data_analysis"
   ]
  },
  {
   "cell_type": "code",
   "execution_count": null,
   "metadata": {},
   "outputs": [],
   "source": [
    "# Initialise the lockin and hotstage.\n",
    "# Check the address for the lockin and hotstage. \n",
    "# If needed run the second code block to find out the ID's\n",
    "\n",
    "lockin = SRLockinAmplifier(\"GPIB0::1::INSTR\") # initialise the lockin\n",
    "lockin.initialise_dualharmonic() # initialise dual harmonic mode\n",
    "\n",
    "hotstage = LinkamHotstage(\"ASRL6::INSTR\") # inistialise hotstage\n",
    "print(hotstage.current_temperature()[0])"
   ]
  },
  {
   "cell_type": "code",
   "execution_count": null,
   "metadata": {},
   "outputs": [],
   "source": [
    "import pyvisa\n",
    "rm = pyvisa.ResourceManager()\n",
    "visa_resources = rm.list_resources(\"?*\")\n",
    "print(visa_resources)"
   ]
  },
  {
   "cell_type": "code",
   "execution_count": null,
   "metadata": {},
   "outputs": [],
   "source": [
    "# Set run parameters in deg C\n",
    "\n",
    "rate = 45 # 0.1 <= rate <= 30\n",
    "start_temp = 30 # 25 <= start <= 300\n",
    "end_temp = 29 # 25 <= stop <= 300\n",
    "step = 0.1 # 0.1 <= step <= 20"
   ]
  },
  {
   "cell_type": "code",
   "execution_count": null,
   "metadata": {},
   "outputs": [],
   "source": [
    "# Collect raw v1f and v2f data for the settings above\n",
    "\n",
    "temps, v1f, v2f = run_temperature_sweep(start_temp, end_temp, step, rate, hotstage, lockin)"
   ]
  },
  {
   "cell_type": "code",
   "execution_count": null,
   "metadata": {},
   "outputs": [],
   "source": [
    "# run the data analysis\n",
    "\n",
    "retardence = data_analysis(v1f, v2f)"
   ]
  }
 ],
 "metadata": {
  "kernelspec": {
   "display_name": "biref",
   "language": "python",
   "name": "python3"
  },
  "language_info": {
   "codemirror_mode": {
    "name": "ipython",
    "version": 3
   },
   "file_extension": ".py",
   "mimetype": "text/x-python",
   "name": "python",
   "nbconvert_exporter": "python",
   "pygments_lexer": "ipython3",
   "version": "3.13.1"
  }
 },
 "nbformat": 4,
 "nbformat_minor": 2
}
