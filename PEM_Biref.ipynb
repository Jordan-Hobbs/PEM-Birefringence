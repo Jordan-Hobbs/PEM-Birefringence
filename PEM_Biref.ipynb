{
 "cells": [
  {
   "cell_type": "code",
   "execution_count": null,
   "metadata": {},
   "outputs": [],
   "source": [
    "# Import all needed functions and modules\n",
    "from main import run_temperature_sweep, run_fast_temperature_sweep\n",
    "import instruments\n",
    "import matplotlib\n",
    "matplotlib.use('TkAgg')"
   ]
  },
  {
   "cell_type": "code",
   "execution_count": null,
   "metadata": {},
   "outputs": [],
   "source": [
    "# Initialise the lockin and hotstage.\n",
    "# Check the address for the lockin and hotstage. \n",
    "# If needed run the next code block to find out the ID's\n",
    "lockin = instruments.SRLockinAmplifier(\"GPIB0::1::INSTR\") # initialise the lockin\n",
    "lockin.initialise_dualharmonic() # initialise dual harmonic mode\n",
    "hotstage = instruments.LinkamHotstage(\"ASRL6::INSTR\") # inistialise hotstage\n",
    "print(hotstage.current_temperature()[0])"
   ]
  },
  {
   "cell_type": "code",
   "execution_count": null,
   "metadata": {},
   "outputs": [],
   "source": [
    "# Remove sample and any waveplates\n",
    "# Run this block to set 2nd harmonic autophase\n",
    "lockin.set_auto_phase(2)"
   ]
  },
  {
   "cell_type": "code",
   "execution_count": null,
   "metadata": {},
   "outputs": [],
   "source": [
    "# Insert 1/4 waveplate with fast axis paralel to the PEM\n",
    "# Run this block to set 1st harmonic autophase\n",
    "lockin.set_auto_phase(1)"
   ]
  },
  {
   "cell_type": "code",
   "execution_count": null,
   "metadata": {},
   "outputs": [],
   "source": [
    "# Set run parameters in deg C, wavelength and cellgap in m\n",
    "\n",
    "file_name = \"80CJG134_20CJG352_1.6um.csv\"\n",
    "wavelength = 635e-9\n",
    "cellgap = 1.6e-6\n",
    "rate = 1 # 0.1 <= rate <= 30\n",
    "start_temp = 175 # 25 <= start <= 300\n",
    "end_temp = 40 # 25 <= stop <= 300\n",
    "step = 0.2 # 0.1 <= step <= 20"
   ]
  },
  {
   "cell_type": "code",
   "execution_count": null,
   "metadata": {},
   "outputs": [],
   "source": [
    "# Collect raw v1f and v2f data for the settings above\n",
    "\n",
    "run_temperature_sweep(start_temp, end_temp, step, rate, wavelength, cellgap, file_name, hotstage, lockin)"
   ]
  },
  {
   "cell_type": "code",
   "execution_count": null,
   "metadata": {},
   "outputs": [],
   "source": [
    "# Set run parameters in deg C\n",
    "\n",
    "file_name = \"80CJG134_20CJG352_1.6um.csv\"\n",
    "wavelength = 635e-9\n",
    "cellgap = 1.6e-6\n",
    "start_temp = 175 # 25 <= start <= 300\n",
    "end_temp = 40 # 25 <= stop <= 300"
   ]
  },
  {
   "cell_type": "code",
   "execution_count": null,
   "metadata": {},
   "outputs": [],
   "source": [
    "# Collect raw v1f and v2f data for the settings above. Cools at 10C/min and measures biref every second.\n",
    "\n",
    "run_fast_temperature_sweep(start_temp, end_temp, wavelength, cellgap, file_name, hotstage, lockin)"
   ]
  },
  {
   "cell_type": "markdown",
   "metadata": {},
   "source": [
    "TROUBLESHOOTING BLOCKS"
   ]
  },
  {
   "cell_type": "code",
   "execution_count": null,
   "metadata": {},
   "outputs": [],
   "source": [
    "import pyvisa\n",
    "rm = pyvisa.ResourceManager()\n",
    "visa_resources = rm.list_resources(\"?*\")\n",
    "print(visa_resources)"
   ]
  },
  {
   "cell_type": "code",
   "execution_count": null,
   "metadata": {},
   "outputs": [],
   "source": [
    "hotstage = instruments.LinkamHotstage(\"ASRL6::INSTR\") # inistialise hotstage\n",
    "print(hotstage.current_temperature()[0])"
   ]
  }
 ],
 "metadata": {
  "kernelspec": {
   "display_name": "pem-birefringence",
   "language": "python",
   "name": "python3"
  },
  "language_info": {
   "codemirror_mode": {
    "name": "ipython",
    "version": 3
   },
   "file_extension": ".py",
   "mimetype": "text/x-python",
   "name": "python",
   "nbconvert_exporter": "python",
   "pygments_lexer": "ipython3",
   "version": "3.13.2"
  }
 },
 "nbformat": 4,
 "nbformat_minor": 2
}
